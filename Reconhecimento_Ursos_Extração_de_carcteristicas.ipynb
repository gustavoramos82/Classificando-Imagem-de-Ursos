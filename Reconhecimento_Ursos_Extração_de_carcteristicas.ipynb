{
  "nbformat": 4,
  "nbformat_minor": 0,
  "metadata": {
    "colab": {
      "name": "Reconhecimento Ursos - Extração de carcteristicas.ipynb",
      "provenance": [],
      "mount_file_id": "1wEYEnjRSezwjqbHaEP4HOWqN7KaX4ZEz",
      "authorship_tag": "ABX9TyN2gJXX0m9GP9ka/5kq/McV",
      "include_colab_link": true
    },
    "kernelspec": {
      "name": "python3",
      "display_name": "Python 3"
    },
    "language_info": {
      "name": "python"
    }
  },
  "cells": [
    {
      "cell_type": "markdown",
      "metadata": {
        "id": "view-in-github",
        "colab_type": "text"
      },
      "source": [
        "<a href=\"https://colab.research.google.com/github/gustavoramos82/Classificando-Imagem-de-Ursos/blob/main/Reconhecimento_Ursos_Extra%C3%A7%C3%A3o_de_carcteristicas.ipynb\" target=\"_parent\"><img src=\"https://colab.research.google.com/assets/colab-badge.svg\" alt=\"Open In Colab\"/></a>"
      ]
    },
    {
      "cell_type": "markdown",
      "source": [
        "# Reconhecimento Ursos\n",
        "\n",
        "Neste dataset extraido do kaggle (link disponivel [aqui](https://www.kaggle.com/datasets/hoturam/bear-dataset)) vamos usar técnica de redes neurais para fazer reconhecimento das imagens, usando extração de caracteristicas e depois usando o fine tunnig para tentar melhorar a perfomace do modelo.\n",
        "\n",
        "o dataset consiste em identificar cinco tipos de urso\n",
        "polar, grizzly, black, panda, and teddy (urso de pelucia)"
      ],
      "metadata": {
        "id": "BA2RpjCwArG7"
      }
    },
    {
      "cell_type": "code",
      "execution_count": 66,
      "metadata": {
        "id": "eBq29u_1AkZR"
      },
      "outputs": [],
      "source": [
        "# Importando as bibliotecas\n",
        "import os\n",
        "from PIL import Image\n",
        "from tensorflow import keras\n",
        "import numpy as np\n",
        "import matplotlib.pyplot as plt\n",
        "from tensorflow import keras\n",
        "from tensorflow.keras.applications import vgg19,resnet50,InceptionResNetV2\n",
        "from tensorflow.keras.models import Model\n",
        "from sklearn.model_selection import train_test_split\n",
        "from sklearn.naive_bayes import GaussianNB\n",
        "from sklearn.tree import DecisionTreeClassifier\n",
        "from sklearn.svm import SVC\n",
        "from sklearn.neighbors import KNeighborsClassifier\n",
        "from sklearn.ensemble import RandomForestClassifier, GradientBoostingClassifier\n",
        "from sklearn.metrics import accuracy_score, precision_score, recall_score"
      ]
    },
    {
      "cell_type": "code",
      "source": [
        "# Pegando o diretorio da pasta de cada classifcador\n",
        "polar = os.listdir('/content/drive/MyDrive/Datasets/Dataset Ursos/polar')\n",
        "black = os.listdir('/content/drive/MyDrive/Datasets/Dataset Ursos/black')\n",
        "teddy = os.listdir('/content/drive/MyDrive/Datasets/Dataset Ursos/teddy')\n",
        "panda = os.listdir('/content/drive/MyDrive/Datasets/Dataset Ursos/panda')\n",
        "grizzly = os.listdir('/content/drive/MyDrive/Datasets/Dataset Ursos/grizzly')"
      ],
      "metadata": {
        "id": "7ATM2NocCy29"
      },
      "execution_count": 2,
      "outputs": []
    },
    {
      "cell_type": "code",
      "source": [
        "quantidade = [len(polar),len(black),len(teddy),len(panda),len(grizzly)]\n",
        "nome_especie = ['Polar','Black','Teddy','Panda','Grizzly']\n",
        "\n",
        "# Montando o grafico\n",
        "plt.style.use('ggplot')\n",
        "plt.title('Quantidade de imagens por classificação')\n",
        "plt.barh(nome_especie,quantidade,color='firebrick')\n",
        "plt.xlabel('Quantidade')\n",
        "plt.ylabel('Espécie')"
      ],
      "metadata": {
        "colab": {
          "base_uri": "https://localhost:8080/",
          "height": 316
        },
        "id": "gf_wCvHgD6-d",
        "outputId": "f80e80ab-86fb-4443-ae2f-4594f4eb2516"
      },
      "execution_count": 9,
      "outputs": [
        {
          "output_type": "execute_result",
          "data": {
            "text/plain": [
              "Text(0, 0.5, 'Espécie')"
            ]
          },
          "metadata": {},
          "execution_count": 9
        },
        {
          "output_type": "display_data",
          "data": {
            "text/plain": [
              "<Figure size 432x288 with 1 Axes>"
            ],
            "image/png": "[encoded data removed]"
          },
          "metadata": {}
        }
      ]
    },
    {
      "cell_type": "markdown",
      "source": [
        "Podemos ver q temos mais imagem de urso pola, em torno de 100, em quanto grizzly, teddy e panda em torno de 40, no primeiro momento não sera feito algo para esse desbalanceamento para forma um baseline e parti dai verificar se alcançamos uma melhor perfomace."
      ],
      "metadata": {
        "id": "SxAygbG2E1LU"
      }
    },
    {
      "cell_type": "code",
      "source": [
        "# fazendo a extração das imagens\n",
        "x = []\n",
        "y = []\n",
        "img_w, img_h = 224, 224"
      ],
      "metadata": {
        "id": "fLMKxg4HFzut"
      },
      "execution_count": 10,
      "outputs": []
    },
    {
      "cell_type": "code",
      "source": [
        "for i in polar:\n",
        "  image = Image.open(f'/content/drive/MyDrive/Datasets/Dataset Ursos/polar/{i}').convert('RGB')\n",
        "  image = image.resize((img_w, img_h))\n",
        "  x.append(np.asarray(image))\n",
        "  y.append(0)"
      ],
      "metadata": {
        "id": "lIqgROCqF-3h"
      },
      "execution_count": 11,
      "outputs": []
    },
    {
      "cell_type": "code",
      "source": [
        "for i in black:\n",
        "  image = Image.open(f'/content/drive/MyDrive/Datasets/Dataset Ursos/black/{i}').convert('RGB')\n",
        "  image = image.resize((img_w, img_h))\n",
        "  x.append(np.asarray(image))\n",
        "  y.append(1)"
      ],
      "metadata": {
        "id": "NyXvDWSNGp4q"
      },
      "execution_count": 12,
      "outputs": []
    },
    {
      "cell_type": "code",
      "source": [
        "for i in teddy:\n",
        "  image = Image.open(f'/content/drive/MyDrive/Datasets/Dataset Ursos/teddy/{i}').convert('RGB')\n",
        "  image = image.resize((img_w, img_h))\n",
        "  x.append(np.asarray(image))\n",
        "  y.append(2)"
      ],
      "metadata": {
        "id": "9vDIvHzzG8ev"
      },
      "execution_count": 13,
      "outputs": []
    },
    {
      "cell_type": "code",
      "source": [
        "for i in panda:\n",
        "  image = Image.open(f'/content/drive/MyDrive/Datasets/Dataset Ursos/panda/{i}').convert('RGB')\n",
        "  image = image.resize((img_w, img_h))\n",
        "  x.append(np.asarray(image))\n",
        "  y.append(3)"
      ],
      "metadata": {
        "id": "HLb6RWlXHOFR"
      },
      "execution_count": 14,
      "outputs": []
    },
    {
      "cell_type": "code",
      "source": [
        "for i in grizzly:\n",
        "  image = Image.open(f'/content/drive/MyDrive/Datasets/Dataset Ursos/grizzly/{i}').convert('RGB')\n",
        "  image = image.resize((img_w, img_h))\n",
        "  x.append(np.asarray(image))\n",
        "  y.append(4)"
      ],
      "metadata": {
        "id": "wD1tcoVnHaaL"
      },
      "execution_count": 15,
      "outputs": []
    },
    {
      "cell_type": "code",
      "source": [
        "x = np.asarray(x)\n",
        "x = x.astype('float32')\n",
        "x /= 255\n",
        "y = np.asarray(y)"
      ],
      "metadata": {
        "id": "lsp_bVj2Hp9t"
      },
      "execution_count": 16,
      "outputs": []
    },
    {
      "cell_type": "code",
      "source": [
        "x_treino, x_teste, y_treino, y_teste = train_test_split(x,y,test_size=0.2,random_state=10)"
      ],
      "metadata": {
        "id": "eGX89qhwHwRf"
      },
      "execution_count": 17,
      "outputs": []
    },
    {
      "cell_type": "markdown",
      "source": [
        "Implantando a extração de caracteristicas"
      ],
      "metadata": {
        "id": "bxdy_fZqIKhU"
      }
    },
    {
      "cell_type": "code",
      "source": [
        "# model = vgg19.VGG19(include_top=True, weights='imagenet', input_shape=(224, 224, 3),classes=1000, classifier_activation='softmax')\n",
        "# model = resnet50.ResNet50(input_shape=(224, 224, 3), weights='imagenet', include_top=True,classifier_activation='softmax')\n",
        "model = InceptionResNetV2(input_shape=(224, 224, 3), weights='imagenet', include_top=False,classifier_activation='relu')\n",
        "model = Model(inputs=model.input, outputs=model.get_layer(index=-2).output)"
      ],
      "metadata": {
        "colab": {
          "base_uri": "https://localhost:8080/"
        },
        "id": "zzKKHk9oH4hA",
        "outputId": "07016740-31a8-4cff-de53-1bf020b955e0"
      },
      "execution_count": 67,
      "outputs": [
        {
          "output_type": "stream",
          "name": "stdout",
          "text": [
            "Downloading data from https://storage.googleapis.com/tensorflow/keras-applications/inception_resnet_v2/inception_resnet_v2_weights_tf_dim_ordering_tf_kernels_notop.h5\n",
            "219062272/219055592 [==============================] - 2s 0us/step\n",
            "219070464/219055592 [==============================] - 2s 0us/step\n"
          ]
        }
      ]
    },
    {
      "cell_type": "code",
      "source": [
        "prediction = np.array(model.predict(x_treino))\n",
        "Xtrain = np.reshape(prediction, (prediction.shape[0], \n",
        "         np.prod(prediction.shape[1:])))"
      ],
      "metadata": {
        "id": "7-netnXEIA0W"
      },
      "execution_count": 68,
      "outputs": []
    },
    {
      "cell_type": "code",
      "source": [
        "prediction = np.array(model.predict(x_teste))\n",
        "Xtest = np.reshape(prediction, (prediction.shape[0], \n",
        "         np.prod(prediction.shape[1:])))"
      ],
      "metadata": {
        "id": "ipkuBodnIHTS"
      },
      "execution_count": 69,
      "outputs": []
    },
    {
      "cell_type": "code",
      "source": [
        "# Aplicando naive bayes\n",
        "naive = GaussianNB()\n",
        "naive.fit(Xtrain,y_treino)\n",
        "y_na_pred = naive.predict(Xtest)"
      ],
      "metadata": {
        "id": "cPKCT-Z8JGJi"
      },
      "execution_count": 70,
      "outputs": []
    },
    {
      "cell_type": "code",
      "source": [
        "print('Acuracia',accuracy_score(y_teste,y_na_pred))\n",
        "print('Precisão',precision_score(y_teste,y_na_pred,average='macro'))\n",
        "print('Recall',recall_score(y_teste,y_na_pred,average='macro'))"
      ],
      "metadata": {
        "colab": {
          "base_uri": "https://localhost:8080/"
        },
        "id": "MYDPq0-xJNIX",
        "outputId": "c8defaf4-389a-44c6-f801-9584fcd3d43f"
      },
      "execution_count": 71,
      "outputs": [
        {
          "output_type": "stream",
          "name": "stdout",
          "text": [
            "Acuracia 0.9354838709677419\n",
            "Precisão 0.9125\n",
            "Recall 0.9466666666666667\n"
          ]
        }
      ]
    },
    {
      "cell_type": "code",
      "source": [
        "# Aplicando Árvore de Decisão\n",
        "tree = DecisionTreeClassifier(criterion='entropy')\n",
        "tree.fit(Xtrain,y_treino)\n",
        "y_tree_pred = tree.predict(Xtest)"
      ],
      "metadata": {
        "id": "ib4SY6JbJcQM"
      },
      "execution_count": 72,
      "outputs": []
    },
    {
      "cell_type": "code",
      "source": [
        "print('Acuracia',accuracy_score(y_teste,y_tree_pred))\n",
        "print('Precisão',precision_score(y_teste,y_tree_pred,average='macro'))\n",
        "print('Recall',recall_score(y_teste,y_tree_pred,average='macro'))"
      ],
      "metadata": {
        "colab": {
          "base_uri": "https://localhost:8080/"
        },
        "id": "dOT7NS2EJi6u",
        "outputId": "a51934df-4203-4653-93c1-3b00af0bf134"
      },
      "execution_count": 73,
      "outputs": [
        {
          "output_type": "stream",
          "name": "stdout",
          "text": [
            "Acuracia 0.8870967741935484\n",
            "Precisão 0.8678296703296704\n",
            "Recall 0.9068002585649644\n"
          ]
        }
      ]
    },
    {
      "cell_type": "code",
      "source": [
        "# Aplicando Random Forest\n",
        "rf = RandomForestClassifier(criterion='entropy')\n",
        "rf.fit(Xtrain,y_treino)\n",
        "y_rf = rf.predict(Xtest)"
      ],
      "metadata": {
        "id": "ifOdzYJ_JoOC"
      },
      "execution_count": 74,
      "outputs": []
    },
    {
      "cell_type": "code",
      "source": [
        "print('Acuracia',accuracy_score(y_teste,y_rf))\n",
        "print('Precisão',precision_score(y_teste,y_rf,average='macro'))\n",
        "print('Recall',recall_score(y_teste,y_rf,average='macro'))"
      ],
      "metadata": {
        "colab": {
          "base_uri": "https://localhost:8080/"
        },
        "id": "ANgM5NcEJvyd",
        "outputId": "fe88074e-fcdd-4de0-ac61-7fab06bcd297"
      },
      "execution_count": 75,
      "outputs": [
        {
          "output_type": "stream",
          "name": "stdout",
          "text": [
            "Acuracia 0.9516129032258065\n",
            "Precisão 0.9235042735042736\n",
            "Recall 0.9579487179487179\n"
          ]
        }
      ]
    },
    {
      "cell_type": "code",
      "source": [
        "# Aplicando Gradiente Boosting\n",
        "grad = GradientBoostingClassifier()\n",
        "grad.fit(Xtrain,y_treino)\n",
        "y_grad = grad.predict(Xtest)"
      ],
      "metadata": {
        "id": "EPJOIhMiJzIr"
      },
      "execution_count": 76,
      "outputs": []
    },
    {
      "cell_type": "code",
      "source": [
        "print('Acuracia',accuracy_score(y_teste,y_grad))\n",
        "print('Precisão',precision_score(y_teste,y_grad,average='macro'))\n",
        "print('Recall',recall_score(y_teste,y_grad,average='macro'))"
      ],
      "metadata": {
        "colab": {
          "base_uri": "https://localhost:8080/"
        },
        "id": "qo6WL_6vJ5CJ",
        "outputId": "3cca6020-6d18-4f38-84fb-9d23f23fccc5"
      },
      "execution_count": 77,
      "outputs": [
        {
          "output_type": "stream",
          "name": "stdout",
          "text": [
            "Acuracia 0.9032258064516129\n",
            "Precisão 0.9292307692307691\n",
            "Recall 0.9165136823960353\n"
          ]
        }
      ]
    },
    {
      "cell_type": "code",
      "source": [
        "# Svm com kernel linear\n",
        "svm = SVC(kernel='linear')\n",
        "svm.fit(Xtrain,y_treino)\n",
        "y_svm = svm.predict(Xtest)"
      ],
      "metadata": {
        "id": "jHg_EhV6KflI"
      },
      "execution_count": 78,
      "outputs": []
    },
    {
      "cell_type": "code",
      "source": [
        "print('Acuracia',accuracy_score(y_teste,y_svm))\n",
        "print('Precisão',precision_score(y_teste,y_svm,average='macro'))\n",
        "print('Recall',recall_score(y_teste,y_svm,average='macro'))"
      ],
      "metadata": {
        "colab": {
          "base_uri": "https://localhost:8080/"
        },
        "id": "Wkc2o8XOKziu",
        "outputId": "3c4ce4ad-c363-48a2-a904-fdff96384d67"
      },
      "execution_count": 79,
      "outputs": [
        {
          "output_type": "stream",
          "name": "stdout",
          "text": [
            "Acuracia 0.967741935483871\n",
            "Precisão 0.9733333333333334\n",
            "Recall 0.9733333333333334\n"
          ]
        }
      ]
    },
    {
      "cell_type": "code",
      "source": [
        "# Usando KNN\n",
        "knn = KNeighborsClassifier()\n",
        "knn.fit(Xtrain,y_treino)\n",
        "y_knn = knn.predict(Xtest)"
      ],
      "metadata": {
        "id": "s9xhlSkuLMdY"
      },
      "execution_count": 80,
      "outputs": []
    },
    {
      "cell_type": "code",
      "source": [
        "print('Acuracia',accuracy_score(y_teste,y_knn))\n",
        "print('Precisão',precision_score(y_teste,y_knn,average='macro'))\n",
        "print('Recall',recall_score(y_teste,y_knn,average='macro'))"
      ],
      "metadata": {
        "colab": {
          "base_uri": "https://localhost:8080/"
        },
        "id": "9DAhfcanLk28",
        "outputId": "770117d8-b129-4acb-e5c3-3a525b0fd1a3"
      },
      "execution_count": 81,
      "outputs": [
        {
          "output_type": "stream",
          "name": "stdout",
          "text": [
            "Acuracia 0.9838709677419355\n",
            "Precisão 0.9857142857142858\n",
            "Recall 0.9866666666666667\n"
          ]
        }
      ]
    },
    {
      "cell_type": "markdown",
      "source": [
        "Podemos ver q o melhor base foi a rede *InceptionResNetV2* , apartir disso o modelo que teve a melhor performace foi o KNN com uma acuracia de 98,3%"
      ],
      "metadata": {
        "id": "kQ_DoHPNRy2T"
      }
    }
  ]
}